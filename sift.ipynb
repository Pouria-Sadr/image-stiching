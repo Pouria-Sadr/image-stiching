{
 "cells": [
  {
   "cell_type": "code",
   "execution_count": null,
   "metadata": {},
   "outputs": [],
   "source": [
    "import numpy as np\n",
    "import cv2\n",
    "import matplotlib.pyplot as plt"
   ]
  },
  {
   "cell_type": "code",
   "execution_count": null,
   "metadata": {},
   "outputs": [],
   "source": [
    "image_1 = cv2.imread(\"sl.jpg\")\n",
    "image_2 = cv2.imread(\"sm.jpg\")\n",
    "image_3 = cv2.imread(\"sr.jpg\")"
   ]
  },
  {
   "cell_type": "code",
   "execution_count": null,
   "metadata": {},
   "outputs": [],
   "source": [
    "def get_keypoints(image_1, image_2):\n",
    "    sift = cv2.xfeatures2d.SIFT_create()\n",
    "    keypoints_1, descriptor_1 = sift.detectAndCompute(image_1, None)\n",
    "    keypoints_2, descriptor_2 = sift.detectAndCompute(image_2, None)\n",
    "    fig, axis = plt.subplots(1, 2, figsize=(10,5))\n",
    "    axis[0].imshow(cv2.drawKeypoints(image_1, keypoints_1, None))\n",
    "    axis[0].set_title(\"first image keypoints\")\n",
    "    axis[1].imshow(cv2.drawKeypoints(image_2, keypoints_2, None))\n",
    "    axis[1].set_title(\"second image keypoints\")\n",
    "    return keypoints_1, descriptor_1, keypoints_2, descriptor_2\n"
   ]
  },
  {
   "cell_type": "code",
   "execution_count": null,
   "metadata": {},
   "outputs": [],
   "source": [
    "def get_matches(keypoints_1, descriptor_1, image_1, keypoints_2, descriptor_2,image_2):\n",
    "    ratio = 0.85\n",
    "    min_match = 10\n",
    "    matcher = cv2.BFMatcher()\n",
    "    raw_matches = matcher.knnMatch(descriptor_1,descriptor_2,k=2)\n",
    "    good_points = []\n",
    "    good_matches = []\n",
    "    for m1, m2 in raw_matches:\n",
    "        if m1.distance < ratio * m2.distance:\n",
    "            good_points.append((m1.trainIdx, m1.queryIdx))\n",
    "            good_matches.append([m1])\n",
    "    matches = cv2.drawMatchesKnn(image_1, keypoints_1, image_2, keypoints_1, good_matches, None, flags=2)\n",
    "    fig, axis = plt.subplots(1, 1, figsize=(5,5))\n",
    "    axis.imshow(matches)\n",
    "    axis.set_title(\"match points\")\n",
    "    if len(good_points) > min_match:\n",
    "        image1_kp = np.float32([keypoints_1[i].pt for (_, i) in good_points])\n",
    "        image2_kp = np.float32([keypoints_2[i].pt for (i, _) in good_points])\n",
    "    H, status = cv2.findHomography(image2_kp, image1_kp, cv2.RANSAC, 5.0)\n",
    "    return H"
   ]
  },
  {
   "cell_type": "code",
   "execution_count": null,
   "metadata": {},
   "outputs": [],
   "source": [
    "def get_mask(img1,img2,version,smoothing_window_size=600):\n",
    "    height_img1 = img1.shape[0]\n",
    "    width_img1 = img1.shape[1]\n",
    "    width_img2 = img2.shape[1]\n",
    "    height_panorama = height_img1\n",
    "    width_panorama = width_img1 + width_img2\n",
    "    offset = int(smoothing_window_size / 2)\n",
    "    barrier = img1.shape[1] - int(smoothing_window_size / 2)\n",
    "    mask = np.zeros((height_panorama, width_panorama))\n",
    "    if version== 'left_image':\n",
    "        mask[:, barrier - offset:barrier + offset ] = np.tile(np.linspace(1,0, 2 * offset ).T, (height_panorama, 1))\n",
    "        mask[:, :barrier - offset] = 1\n",
    "    else:\n",
    "        mask[:, barrier - offset :barrier + offset ] = np.tile(np.linspace(0,1, 2 * offset ).T, (height_panorama, 1))\n",
    "        mask[:, barrier + offset:] = 1\n",
    "    return cv2.merge([mask, mask, mask])"
   ]
  },
  {
   "cell_type": "code",
   "execution_count": null,
   "metadata": {},
   "outputs": [],
   "source": [
    "def get_panorama(image_1, image_2,H):\n",
    "    height_img1 = image_1.shape[0]\n",
    "    width_img1 = image_1.shape[1]\n",
    "    width_img2 = image_2.shape[1]\n",
    "    height_panorama = height_img1\n",
    "    width_panorama = width_img1 + width_img2\n",
    "    panorama1 = np.zeros((height_panorama, width_panorama, 3))\n",
    "    mask1 = get_mask(image_1, image_2, version='left_image')\n",
    "    panorama1[0:image_1.shape[0], 0:image_1.shape[1], :] = image_1\n",
    "    panorama1 *= mask1\n",
    "    mask2 = get_mask(image_1,image_2,version='right_image')\n",
    "    panorama2 = cv2.warpPerspective(image_2, H, (width_panorama, height_panorama))*mask2\n",
    "    result = panorama1 + panorama2\n",
    "    rows, cols = np.where(result[:, :, 0] != 0)\n",
    "    min_row, max_row = min(rows), max(rows) + 1\n",
    "    min_col, max_col = min(cols), max(cols) + 1\n",
    "    final_result = result[min_row:max_row, min_col:max_col, :]\n",
    "    return final_result.astype(np.uint8)"
   ]
  },
  {
   "cell_type": "code",
   "execution_count": null,
   "metadata": {},
   "outputs": [],
   "source": [
    "keypoints_1, descriptor_1, keypoints_2, descriptor_2 = get_keypoints(image_1,image_2)\n",
    "H = get_matches(keypoints_1, descriptor_1, image_1,keypoints_2, descriptor_2,image_2)\n",
    "final_result_1 = get_panorama(image_1, image_2,H)"
   ]
  },
  {
   "cell_type": "code",
   "execution_count": null,
   "metadata": {},
   "outputs": [],
   "source": [
    "keypoints_1, descriptor_1, keypoints_2, descriptor_2 = get_keypoints(final_result_1,image_3)\n",
    "H = get_matches(keypoints_1, descriptor_1, final_result_1,keypoints_2, descriptor_2,image_3)\n",
    "final_result_2 = get_panorama(final_result_1, image_3,H)"
   ]
  },
  {
   "cell_type": "code",
   "execution_count": null,
   "metadata": {},
   "outputs": [],
   "source": [
    "plt.imshow(final_result_1/255.0)\n",
    "plt.show()"
   ]
  },
  {
   "cell_type": "code",
   "execution_count": null,
   "metadata": {},
   "outputs": [],
   "source": [
    "plt.imshow(final_result_2/255.0)\n",
    "plt.show()\n"
   ]
  },
  {
   "cell_type": "code",
   "execution_count": null,
   "metadata": {},
   "outputs": [],
   "source": [
    "image_1 = cv2.imread(\"1.jpg\")\n",
    "image_2 = cv2.imread(\"2.jpg\")"
   ]
  },
  {
   "cell_type": "code",
   "execution_count": null,
   "metadata": {},
   "outputs": [],
   "source": [
    "keypoints_1, descriptor_1, keypoints_2, descriptor_2 = get_keypoints(image_1,image_2)\n",
    "H = get_matches(keypoints_1, descriptor_1, image_1,keypoints_2, descriptor_2,image_2)\n",
    "final_result_1 = get_panorama(image_1, image_2,H)\n"
   ]
  },
  {
   "cell_type": "code",
   "execution_count": null,
   "metadata": {},
   "outputs": [],
   "source": [
    "plt.imshow(final_result_1/255.0)\n",
    "plt.show()"
   ]
  }
 ],
 "metadata": {
  "language_info": {
   "name": "python"
  },
  "orig_nbformat": 4
 },
 "nbformat": 4,
 "nbformat_minor": 2
}
